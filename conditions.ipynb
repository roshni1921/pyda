{
 "cells": [
  {
   "cell_type": "code",
   "execution_count": 3,
   "metadata": {},
   "outputs": [
    {
     "name": "stdout",
     "output_type": "stream",
     "text": [
      "x is greater than 5 but y is less than 2\n"
     ]
    }
   ],
   "source": [
    "x=8\n",
    "y=1\n",
    "if x>5:\n",
    "    if y>2:\n",
    "        print(\"both x and y are greater than 5 and 2\")\n",
    "    else:\n",
    "        print(\"x is greater than 5 but y is less than 2\")\n",
    "else:\n",
    "    print(\"x is not greater than 5\")"
   ]
  },
  {
   "cell_type": "code",
   "execution_count": 5,
   "metadata": {},
   "outputs": [
    {
     "name": "stdout",
     "output_type": "stream",
     "text": [
      "account created successfully\n",
      "roshni1921\n",
      "roshni1921.rd@gmail.com\n",
      "drawcorel\n"
     ]
    }
   ],
   "source": [
    "username=input(\"enter the username\")\n",
    "email=input(\"enter an email\")\n",
    "pwd=input(\"enter the password\")\n",
    "pwd2=input(\"enter the password again\")\n",
    "if len(username)>=4 and len(username)<=15:\n",
    "    if \"@\" in email and len(email)>0:\n",
    "        if pwd==pwd2:\n",
    "            print(\"account created successfully\")\n",
    "            print(username)\n",
    "            print(email)\n",
    "            print(pwd)\n",
    "        else:\n",
    "            print(\"password doesn't match\")\n",
    "    else:\n",
    "        print(\"wrong email\")\n",
    "else:\n",
    "    print(\"invalid username\")\n"
   ]
  },
  {
   "cell_type": "code",
   "execution_count": 1,
   "metadata": {},
   "outputs": [
    {
     "name": "stdout",
     "output_type": "stream",
     "text": [
      "hello world"
     ]
    }
   ],
   "source": [
    "a=\"hello world\"\n",
    "for x in a:\n",
    "    print (x,end=\"\")\n"
   ]
  },
  {
   "cell_type": "code",
   "execution_count": null,
   "metadata": {},
   "outputs": [],
   "source": []
  }
 ],
 "metadata": {
  "kernelspec": {
   "display_name": "base",
   "language": "python",
   "name": "python3"
  },
  "language_info": {
   "codemirror_mode": {
    "name": "ipython",
    "version": 3
   },
   "file_extension": ".py",
   "mimetype": "text/x-python",
   "name": "python",
   "nbconvert_exporter": "python",
   "pygments_lexer": "ipython3",
   "version": "3.12.2"
  }
 },
 "nbformat": 4,
 "nbformat_minor": 2
}
