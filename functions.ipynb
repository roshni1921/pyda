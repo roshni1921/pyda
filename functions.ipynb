{
 "cells": [
  {
   "cell_type": "markdown",
   "metadata": {},
   "source": [
    "### Types of functions:\n",
    "1.User defined functions \n",
    "2.built-in functions \n",
    "3.parameterised functions \n",
    "4.non-parameterised functions "
   ]
  },
  {
   "cell_type": "markdown",
   "metadata": {},
   "source": [
    "###Non-parameterised functions"
   ]
  },
  {
   "cell_type": "code",
   "execution_count": 1,
   "metadata": {},
   "outputs": [],
   "source": [
    "#function definition \n",
    "def greet(): \n",
    "    print(\"hello, world\")\n",
    "    print(\"good morning\")\n",
    "    print(\"good evening\")\n",
    "    print(\"good night\")"
   ]
  },
  {
   "cell_type": "code",
   "execution_count": 2,
   "metadata": {},
   "outputs": [
    {
     "name": "stdout",
     "output_type": "stream",
     "text": [
      "hello, world\n",
      "good morning\n",
      "good evening\n",
      "good night\n"
     ]
    }
   ],
   "source": [
    "#function call\n",
    "greet()"
   ]
  },
  {
   "cell_type": "code",
   "execution_count": 3,
   "metadata": {},
   "outputs": [
    {
     "name": "stdout",
     "output_type": "stream",
     "text": [
      "hello world\n",
      "good morning\n"
     ]
    }
   ],
   "source": [
    "def greetings():\n",
    "    print(\"hello world\")\n",
    "greetings()\n",
    "print(\"good morning\")"
   ]
  },
  {
   "cell_type": "code",
   "execution_count": 4,
   "metadata": {},
   "outputs": [
    {
     "name": "stdout",
     "output_type": "stream",
     "text": [
      "sum is: 30\n"
     ]
    }
   ],
   "source": [
    "def add(num1,num2): #parameters(input variables)\n",
    "    sum=num1+num2\n",
    "    print(\"sum is:\",sum)\n",
    "add(10,20) #arguments(values assign to the given variables)"
   ]
  },
  {
   "cell_type": "code",
   "execution_count": 7,
   "metadata": {},
   "outputs": [
    {
     "data": {
      "text/plain": [
       "'hello! john'"
      ]
     },
     "execution_count": 7,
     "metadata": {},
     "output_type": "execute_result"
    }
   ],
   "source": [
    "def my_name(name):\n",
    "    return f'hello! {name}'\n",
    "my_name('john')"
   ]
  },
  {
   "cell_type": "code",
   "execution_count": 8,
   "metadata": {},
   "outputs": [
    {
     "data": {
      "text/plain": [
       "('welcome', 'to', 'digipodium')"
      ]
     },
     "execution_count": 8,
     "metadata": {},
     "output_type": "execute_result"
    }
   ],
   "source": [
    "def my_func():\n",
    "    return 'welcome', 'to', 'digipodium'\n",
    "my_func()"
   ]
  },
  {
   "cell_type": "code",
   "execution_count": 1,
   "metadata": {},
   "outputs": [
    {
     "name": "stdout",
     "output_type": "stream",
     "text": [
      "welcome\n",
      "to\n",
      "digipodium\n",
      "welcometodigipodium\n"
     ]
    }
   ],
   "source": [
    "a,b,c = 'welcome', 'to', 'digipodium'\n",
    "print(a)\n",
    "print(b)\n",
    "print(c)\n",
    "print(f'{a}{b}{c}')"
   ]
  },
  {
   "cell_type": "code",
   "execution_count": 10,
   "metadata": {},
   "outputs": [
    {
     "name": "stdout",
     "output_type": "stream",
     "text": [
      "square of number is: 25\n"
     ]
    }
   ],
   "source": [
    "def value(number):\n",
    "    square= number**2\n",
    "    print(\"square of number is:\",square)\n",
    "value(5)"
   ]
  },
  {
   "cell_type": "code",
   "execution_count": 13,
   "metadata": {},
   "outputs": [
    {
     "name": "stdout",
     "output_type": "stream",
     "text": [
      "150\n"
     ]
    }
   ],
   "source": [
    "def add(num1,num2,num3,num4,num5):\n",
    "    total=num1+num2+num3+num4+num5\n",
    "    print(total)\n",
    "add(10,20,30,40,50)"
   ]
  },
  {
   "cell_type": "code",
   "execution_count": 15,
   "metadata": {},
   "outputs": [
    {
     "name": "stdout",
     "output_type": "stream",
     "text": [
      "40\n"
     ]
    }
   ],
   "source": [
    "def sub(num1,num2):\n",
    "    diff=num1-num2\n",
    "    print(diff)\n",
    "sub(50,10)"
   ]
  },
  {
   "cell_type": "markdown",
   "metadata": {},
   "source": [
    "###lambda function is like list comprehension"
   ]
  },
  {
   "cell_type": "code",
   "execution_count": 16,
   "metadata": {},
   "outputs": [
    {
     "name": "stdout",
     "output_type": "stream",
     "text": [
      "50\n"
     ]
    }
   ],
   "source": [
    "add=lambda num1,num2:num1+num2\n",
    "print(add(20,30))"
   ]
  },
  {
   "cell_type": "code",
   "execution_count": 17,
   "metadata": {},
   "outputs": [
    {
     "name": "stdout",
     "output_type": "stream",
     "text": [
      "25\n"
     ]
    }
   ],
   "source": [
    "square=lambda num:num**2\n",
    "print(square(5))"
   ]
  },
  {
   "cell_type": "code",
   "execution_count": 18,
   "metadata": {},
   "outputs": [
    {
     "name": "stdout",
     "output_type": "stream",
     "text": [
      "153.86\n"
     ]
    }
   ],
   "source": [
    "area=lambda radius:3.14 * radius**2\n",
    "print(area(7))"
   ]
  },
  {
   "cell_type": "code",
   "execution_count": 19,
   "metadata": {},
   "outputs": [
    {
     "name": "stdout",
     "output_type": "stream",
     "text": [
      "25.0\n"
     ]
    }
   ],
   "source": [
    "area=lambda base,height: 0.5*base*height\n",
    "print(area(5,10))"
   ]
  },
  {
   "cell_type": "markdown",
   "metadata": {},
   "source": [
    "###Check even or odd"
   ]
  },
  {
   "cell_type": "code",
   "execution_count": 2,
   "metadata": {},
   "outputs": [
    {
     "name": "stdout",
     "output_type": "stream",
     "text": [
      "number is odd\n"
     ]
    }
   ],
   "source": [
    "def find(num):\n",
    "    if num%2==0:\n",
    "        print(\"number is even\")\n",
    "    else:\n",
    "        print(\"number is odd\")\n",
    "find(13)"
   ]
  },
  {
   "cell_type": "markdown",
   "metadata": {},
   "source": [
    "#Convert Temperature Celcius to Fahrenheit"
   ]
  },
  {
   "cell_type": "code",
   "execution_count": 8,
   "metadata": {},
   "outputs": [
    {
     "name": "stdout",
     "output_type": "stream",
     "text": [
      "temperature in fahrenheit is 104.0\n"
     ]
    }
   ],
   "source": [
    "def temperature(celcius):\n",
    "    fahrenheit= celcius * (9/5) + 32\n",
    "    print(\"temperature in fahrenheit is\",fahrenheit)\n",
    "temperature(40)"
   ]
  },
  {
   "cell_type": "markdown",
   "metadata": {},
   "source": [
    "Find Maximum of Two Numbers"
   ]
  },
  {
   "cell_type": "code",
   "execution_count": 9,
   "metadata": {},
   "outputs": [
    {
     "name": "stdout",
     "output_type": "stream",
     "text": [
      "greatest number is 45\n"
     ]
    }
   ],
   "source": [
    "def find(num1,num2):\n",
    "    if num1>num2:\n",
    "        print(\"greatest number is\",num1)\n",
    "    else:\n",
    "        print(\"greatest number is\",num2)\n",
    "find(45,35)"
   ]
  },
  {
   "cell_type": "markdown",
   "metadata": {},
   "source": [
    "#Calculate Factorial"
   ]
  },
  {
   "cell_type": "code",
   "execution_count": 2,
   "metadata": {},
   "outputs": [
    {
     "name": "stdout",
     "output_type": "stream",
     "text": [
      "120\n"
     ]
    }
   ],
   "source": [
    "n=int(input(\"enter a non-nagative number\"))\n",
    "for i in range(1,n):\n",
    "    n*=i\n",
    "print(n)"
   ]
  },
  {
   "cell_type": "markdown",
   "metadata": {},
   "source": [
    "Reverse a String"
   ]
  },
  {
   "cell_type": "code",
   "execution_count": 2,
   "metadata": {},
   "outputs": [
    {
     "name": "stdout",
     "output_type": "stream",
     "text": [
      "olleh\n"
     ]
    }
   ],
   "source": [
    "string=\"hello\"\n",
    "reversed_string=\"\"\n",
    "for char in reversed(string):\n",
    "    reversed_string+=char\n",
    "print(reversed_string)"
   ]
  },
  {
   "cell_type": "markdown",
   "metadata": {},
   "source": [
    "###Count Vowels in a string"
   ]
  },
  {
   "cell_type": "code",
   "execution_count": 1,
   "metadata": {},
   "outputs": [
    {
     "name": "stdout",
     "output_type": "stream",
     "text": [
      "10\n",
      "enter a non-nagative number\n"
     ]
    }
   ],
   "source": [
    "input_string=input(\"enter a string to count vowels\")\n",
    "vowels = \"a,e,i,o,u\"\n",
    "vowel_count = 0\n",
    "for char in input_string:\n",
    "        if char in vowels:\n",
    "            vowel_count += 1\n",
    "print(vowel_count)\n",
    "print(input_string)\n"
   ]
  },
  {
   "cell_type": "code",
   "execution_count": null,
   "metadata": {},
   "outputs": [],
   "source": []
  }
 ],
 "metadata": {
  "kernelspec": {
   "display_name": "base",
   "language": "python",
   "name": "python3"
  },
  "language_info": {
   "codemirror_mode": {
    "name": "ipython",
    "version": 3
   },
   "file_extension": ".py",
   "mimetype": "text/x-python",
   "name": "python",
   "nbconvert_exporter": "python",
   "pygments_lexer": "ipython3",
   "version": "3.12.2"
  }
 },
 "nbformat": 4,
 "nbformat_minor": 2
}
