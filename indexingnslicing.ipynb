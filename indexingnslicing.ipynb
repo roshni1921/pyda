{
 "cells": [
  {
   "cell_type": "markdown",
   "metadata": {},
   "source": [
    "positive indexing(extract the desired value from the list)"
   ]
  },
  {
   "cell_type": "code",
   "execution_count": 1,
   "metadata": {},
   "outputs": [
    {
     "name": "stdout",
     "output_type": "stream",
     "text": [
      "3\n"
     ]
    }
   ],
   "source": [
    "a=[1,2,3,4,5,6,7,8,9]\n",
    "print(a[2])"
   ]
  },
  {
   "cell_type": "code",
   "execution_count": 1,
   "metadata": {},
   "outputs": [
    {
     "ename": "TypeError",
     "evalue": "'builtin_function_or_method' object is not subscriptable",
     "output_type": "error",
     "traceback": [
      "\u001b[1;31m---------------------------------------------------------------------------\u001b[0m",
      "\u001b[1;31mTypeError\u001b[0m                                 Traceback (most recent call last)",
      "Cell \u001b[1;32mIn[1], line 2\u001b[0m\n\u001b[0;32m      1\u001b[0m \u001b[38;5;28;01mfor\u001b[39;00m i \u001b[38;5;129;01min\u001b[39;00m \u001b[38;5;28mrange\u001b[39m (\u001b[38;5;241m1\u001b[39m,\u001b[38;5;241m30\u001b[39m):\n\u001b[1;32m----> 2\u001b[0m  \u001b[38;5;28;43mprint\u001b[39;49m\u001b[43m[\u001b[49m\u001b[38;5;241;43m5\u001b[39;49m\u001b[43m]\u001b[49m\n",
      "\u001b[1;31mTypeError\u001b[0m: 'builtin_function_or_method' object is not subscriptable"
     ]
    }
   ],
   "source": [
    "for i in range (1,30):\n",
    " print[5]"
   ]
  },
  {
   "cell_type": "code",
   "execution_count": 7,
   "metadata": {},
   "outputs": [
    {
     "name": "stdout",
     "output_type": "stream",
     "text": [
      "16\n"
     ]
    }
   ],
   "source": [
    "a=[2,4,6,8,10,12,14,16,18]\n",
    "print(a[7])"
   ]
  },
  {
   "cell_type": "markdown",
   "metadata": {},
   "source": [
    "negative indexing"
   ]
  },
  {
   "cell_type": "code",
   "execution_count": 1,
   "metadata": {},
   "outputs": [
    {
     "name": "stdout",
     "output_type": "stream",
     "text": [
      "12\n"
     ]
    }
   ],
   "source": [
    "a=[2,4,6,8,10,12,14,16,18]\n",
    "print(a[-4])"
   ]
  },
  {
   "cell_type": "code",
   "execution_count": 6,
   "metadata": {},
   "outputs": [
    {
     "name": "stdout",
     "output_type": "stream",
     "text": [
      "[4, 8, 12]\n",
      "9\n"
     ]
    }
   ],
   "source": [
    "a=[2,4,6,8,10,12,14,16,18]\n",
    "print(a[1:7:2])\n",
    "print(len(a))"
   ]
  },
  {
   "cell_type": "code",
   "execution_count": 23,
   "metadata": {},
   "outputs": [
    {
     "name": "stdout",
     "output_type": "stream",
     "text": [
      "ola\n"
     ]
    }
   ],
   "source": [
    "apps=[\"chrome\",\"firefox\",\"safari\",\"edge\",\"opera\",\"vivaldi\",\"brave\",\"epic\",\"chromium\",\"uber\",\"ola\",\"swiggy\",\"zomato\",\"flipkart\",\"amazon\",\"whatsapp\",\"purple\",\"shopsy\",\"wynk\",\"gallery\"]\n",
    "print(apps[-10])"
   ]
  },
  {
   "cell_type": "markdown",
   "metadata": {},
   "source": [
    "slicing"
   ]
  },
  {
   "cell_type": "code",
   "execution_count": 24,
   "metadata": {},
   "outputs": [
    {
     "name": "stdout",
     "output_type": "stream",
     "text": [
      "['opera', 'vivaldi', 'brave', 'epic', 'chromium', 'uber']\n"
     ]
    }
   ],
   "source": [
    "apps=[\"chrome\",\"firefox\",\"safari\",\"edge\",\"opera\",\"vivaldi\",\"brave\",\"epic\",\"chromium\",\"uber\",\"ola\",\"swiggy\",\"zomato\",\"flipkart\",\"amazon\",\"whatsapp\",\"purple\",\"shopsy\",\"wynk\",\"gallery\"]\n",
    "print(apps[4:10])"
   ]
  },
  {
   "cell_type": "code",
   "execution_count": 26,
   "metadata": {},
   "outputs": [
    {
     "name": "stdout",
     "output_type": "stream",
     "text": [
      "['purple', 'shopsy', 'wynk']\n"
     ]
    }
   ],
   "source": [
    "apps=[\"chrome\",\"firefox\",\"safari\",\"edge\",\"opera\",\"vivaldi\",\"brave\",\"epic\",\"chromium\",\"uber\",\"ola\",\"swiggy\",\"zomato\",\"flipkart\",\"amazon\",\"whatsapp\",\"purple\",\"shopsy\",\"wynk\",\"gallery\"]\n",
    "print(apps[-4:-1])"
   ]
  },
  {
   "cell_type": "markdown",
   "metadata": {},
   "source": [
    "slicing with gap"
   ]
  },
  {
   "cell_type": "code",
   "execution_count": 27,
   "metadata": {},
   "outputs": [
    {
     "name": "stdout",
     "output_type": "stream",
     "text": [
      "['firefox', 'edge', 'vivaldi', 'epic', 'uber', 'swiggy', 'flipkart']\n"
     ]
    }
   ],
   "source": [
    "apps=[\"chrome\",\"firefox\",\"safari\",\"edge\",\"opera\",\"vivaldi\",\"brave\",\"epic\",\"chromium\",\"uber\",\"ola\",\"swiggy\",\"zomato\",\"flipkart\",\"amazon\",\"whatsapp\",\"purple\",\"shopsy\",\"wynk\",\"gallery\"]\n",
    "print(apps[1:15:2])"
   ]
  },
  {
   "cell_type": "code",
   "execution_count": 28,
   "metadata": {},
   "outputs": [
    {
     "name": "stdout",
     "output_type": "stream",
     "text": [
      "['purple', 'shopsy', 'wynk', 'gallery']\n"
     ]
    }
   ],
   "source": [
    "apps=[\"chrome\",\"firefox\",\"safari\",\"edge\",\"opera\",\"vivaldi\",\"brave\",\"epic\",\"chromium\",\"uber\",\"ola\",\"swiggy\",\"zomato\",\"flipkart\",\"amazon\",\"whatsapp\",\"purple\",\"shopsy\",\"wynk\",\"gallery\"]\n",
    "print(apps[-4: ])"
   ]
  },
  {
   "cell_type": "code",
   "execution_count": 29,
   "metadata": {},
   "outputs": [
    {
     "name": "stdout",
     "output_type": "stream",
     "text": [
      "['chrome', 'firefox', 'safari', 'edge', 'opera', 'vivaldi', 'brave', 'epic', 'chromium', 'uber', 'ola']\n"
     ]
    }
   ],
   "source": [
    "apps=[\"chrome\",\"firefox\",\"safari\",\"edge\",\"opera\",\"vivaldi\",\"brave\",\"epic\",\"chromium\",\"uber\",\"ola\",\"swiggy\",\"zomato\",\"flipkart\",\"amazon\",\"whatsapp\",\"purple\",\"shopsy\",\"wynk\",\"gallery\"]\n",
    "print(apps[ :11])"
   ]
  },
  {
   "cell_type": "code",
   "execution_count": 30,
   "metadata": {},
   "outputs": [
    {
     "name": "stdout",
     "output_type": "stream",
     "text": [
      "['chrome', 'firefox', 'safari', 'edge', 'opera', 'vivaldi', 'brave', 'epic', 'chromium', 'uber', 'ola', 'swiggy', 'zomato', 'flipkart', 'amazon', 'whatsapp', 'purple', 'shopsy', 'wynk', 'gallery']\n"
     ]
    }
   ],
   "source": [
    "apps=[\"chrome\",\"firefox\",\"safari\",\"edge\",\"opera\",\"vivaldi\",\"brave\",\"epic\",\"chromium\",\"uber\",\"ola\",\"swiggy\",\"zomato\",\"flipkart\",\"amazon\",\"whatsapp\",\"purple\",\"shopsy\",\"wynk\",\"gallery\"]\n",
    "print(apps[ : ])"
   ]
  },
  {
   "cell_type": "markdown",
   "metadata": {},
   "source": [
    "replacement of any content in a list"
   ]
  },
  {
   "cell_type": "code",
   "execution_count": 31,
   "metadata": {},
   "outputs": [
    {
     "name": "stdout",
     "output_type": "stream",
     "text": [
      "['chrome', 'firefox', 'safari', 'edge', 'opera', 'vivaldi', 'brave', 'temple run', 'chromium', 'uber', 'ola', 'swiggy', 'zomato', 'flipkart', 'amazon', 'whatsapp', 'purple', 'shopsy', 'wynk', 'gallery']\n"
     ]
    }
   ],
   "source": [
    "apps[7]=\"temple run\"\n",
    "print(apps)"
   ]
  },
  {
   "cell_type": "code",
   "execution_count": 32,
   "metadata": {},
   "outputs": [
    {
     "name": "stdout",
     "output_type": "stream",
     "text": [
      "20\n"
     ]
    }
   ],
   "source": [
    "print(len(apps))"
   ]
  },
  {
   "cell_type": "markdown",
   "metadata": {},
   "source": [
    "to add any value in alist"
   ]
  },
  {
   "cell_type": "code",
   "execution_count": 33,
   "metadata": {},
   "outputs": [
    {
     "name": "stdout",
     "output_type": "stream",
     "text": [
      "['chrome', 'firefox', 'safari', 'edge', 'opera', 'vivaldi', 'brave', 'temple run', 'chromium', 'uber', 'ola', 'swiggy', 'zomato', 'flipkart', 'amazon', 'whatsapp', 'purple', 'shopsy', 'wynk', 'gallery', 'duckduckgo']\n"
     ]
    }
   ],
   "source": [
    "apps.append(\"duckduckgo\")\n",
    "print(apps)"
   ]
  },
  {
   "cell_type": "markdown",
   "metadata": {},
   "source": [
    "to add a value in a list at any desired place"
   ]
  },
  {
   "cell_type": "code",
   "execution_count": 34,
   "metadata": {},
   "outputs": [
    {
     "name": "stdout",
     "output_type": "stream",
     "text": [
      "['facebook', 'chrome', 'firefox', 'safari', 'edge', 'opera', 'vivaldi', 'brave', 'temple run', 'chromium', 'uber', 'ola', 'swiggy', 'zomato', 'flipkart', 'amazon', 'whatsapp', 'purple', 'shopsy', 'wynk', 'gallery', 'duckduckgo']\n"
     ]
    }
   ],
   "source": [
    "apps.insert(0,\"facebook\")\n",
    "print(apps)"
   ]
  },
  {
   "cell_type": "code",
   "execution_count": 35,
   "metadata": {},
   "outputs": [
    {
     "name": "stdout",
     "output_type": "stream",
     "text": [
      "['duckduckgo', 'gallery', 'wynk', 'shopsy', 'purple', 'whatsapp', 'amazon', 'flipkart', 'zomato', 'swiggy', 'ola', 'uber', 'chromium', 'temple run', 'brave', 'vivaldi', 'opera', 'edge', 'safari', 'firefox', 'chrome', 'facebook']\n"
     ]
    }
   ],
   "source": [
    "apps.reverse()\n",
    "print(apps)"
   ]
  },
  {
   "cell_type": "markdown",
   "metadata": {},
   "source": [
    "to remove a value in alist"
   ]
  },
  {
   "cell_type": "code",
   "execution_count": 36,
   "metadata": {},
   "outputs": [
    {
     "name": "stdout",
     "output_type": "stream",
     "text": [
      "['duckduckgo', 'gallery', 'wynk', 'shopsy', 'purple', 'whatsapp', 'amazon', 'flipkart', 'zomato', 'swiggy', 'ola', 'uber', 'chromium', 'temple run', 'brave', 'vivaldi', 'opera', 'safari', 'firefox', 'chrome', 'facebook']\n"
     ]
    }
   ],
   "source": [
    "apps.remove(\"edge\")\n",
    "print(apps)"
   ]
  },
  {
   "cell_type": "code",
   "execution_count": 38,
   "metadata": {},
   "outputs": [
    {
     "name": "stdout",
     "output_type": "stream",
     "text": [
      "['amazon', 'brave', 'chrome', 'chromium', 'duckduckgo', 'facebook', 'firefox', 'gallery', 'ola', 'opera', 'purple', 'safari', 'shopsy', 'swiggy', 'temple run', 'uber', 'vivaldi', 'whatsapp', 'wynk', 'zomato']\n"
     ]
    }
   ],
   "source": [
    "apps.pop(7)\n",
    "print(apps)"
   ]
  },
  {
   "cell_type": "code",
   "execution_count": 37,
   "metadata": {},
   "outputs": [
    {
     "name": "stdout",
     "output_type": "stream",
     "text": [
      "['amazon', 'brave', 'chrome', 'chromium', 'duckduckgo', 'facebook', 'firefox', 'flipkart', 'gallery', 'ola', 'opera', 'purple', 'safari', 'shopsy', 'swiggy', 'temple run', 'uber', 'vivaldi', 'whatsapp', 'wynk', 'zomato']\n"
     ]
    }
   ],
   "source": [
    "apps.sort()\n",
    "print(apps)"
   ]
  },
  {
   "cell_type": "code",
   "execution_count": 3,
   "metadata": {},
   "outputs": [
    {
     "name": "stdout",
     "output_type": "stream",
     "text": [
      "6\n"
     ]
    }
   ],
   "source": [
    "apps=[\"chrome\",\"firefox\",\"safari\",\"edge\",\"opera\",\"vivaldi\",\"brave\",\"epic\",\"chromium\",\"uber\",\"ola\",\"swiggy\",\"zomato\",\"flipkart\",\"amazon\",\"whatsapp\",\"purple\",\"shopsy\",\"wynk\",\"gallery\"]\n",
    "if \"chrome\" in apps:\n",
    "    print(len(\"chrome\"))"
   ]
  },
  {
   "cell_type": "code",
   "execution_count": 4,
   "metadata": {},
   "outputs": [
    {
     "name": "stdout",
     "output_type": "stream",
     "text": [
      "['firefox', 'safari', 'edge', 'opera', 'vivaldi', 'brave', 'epic', 'chromium', 'uber', 'ola', 'swiggy', 'zomato', 'flipkart', 'amazon', 'whatsapp', 'purple', 'shopsy', 'wynk', 'gallery']\n"
     ]
    }
   ],
   "source": [
    "apps=[\"chrome\",\"firefox\",\"safari\",\"edge\",\"opera\",\"vivaldi\",\"brave\",\"epic\",\"chromium\",\"uber\",\"ola\",\"swiggy\",\"zomato\",\"flipkart\",\"amazon\",\"whatsapp\",\"purple\",\"shopsy\",\"wynk\",\"gallery\"]\n",
    "if \"chrome\" in apps:\n",
    "    apps.remove(\"chrome\")\n",
    "    print(apps)"
   ]
  },
  {
   "cell_type": "code",
   "execution_count": 7,
   "metadata": {},
   "outputs": [
    {
     "name": "stdout",
     "output_type": "stream",
     "text": [
      "['firefox', 'safari', 'edge', 'opera', 'vivaldi', 'brave', 'epic', 'chromium', 'uber', 'ola', 'swiggy', 'zomato', 'flipkart', 'amazon', 'whatsapp', 'purple', 'shopsy', 'wynk', 'gallery']\n"
     ]
    }
   ],
   "source": [
    "a=apps.copy()\n",
    "print (a)"
   ]
  },
  {
   "cell_type": "code",
   "execution_count": 8,
   "metadata": {},
   "outputs": [
    {
     "name": "stdout",
     "output_type": "stream",
     "text": [
      "[]\n"
     ]
    }
   ],
   "source": [
    "a.clear()\n",
    "print(a)"
   ]
  },
  {
   "cell_type": "code",
   "execution_count": 9,
   "metadata": {},
   "outputs": [
    {
     "name": "stdout",
     "output_type": "stream",
     "text": [
      "0\n"
     ]
    }
   ],
   "source": [
    "a=apps.count(\"chrome\")\n",
    "print (a)"
   ]
  },
  {
   "cell_type": "code",
   "execution_count": 10,
   "metadata": {},
   "outputs": [
    {
     "name": "stdout",
     "output_type": "stream",
     "text": [
      "['samsung', 'apple', '1+', 'redmi', 'xiaomi', 'nothing', 'oppo']\n"
     ]
    }
   ],
   "source": [
    "mobile=[\"samsung\",\"apple\",\"1+\",\"redmi\",\"xiaomi\",\"nothing\",\"oppo\"]\n",
    "print(mobile)"
   ]
  },
  {
   "cell_type": "code",
   "execution_count": 11,
   "metadata": {},
   "outputs": [
    {
     "name": "stdout",
     "output_type": "stream",
     "text": [
      "['firefox', 'safari', 'edge', 'opera', 'vivaldi', 'brave', 'epic', 'chromium', 'uber', 'ola', 'swiggy', 'zomato', 'flipkart', 'amazon', 'whatsapp', 'purple', 'shopsy', 'wynk', 'gallery', 'samsung', 'apple', '1+', 'redmi', 'xiaomi', 'nothing', 'oppo']\n"
     ]
    }
   ],
   "source": [
    "apps.extend(mobile)\n",
    "print(apps)"
   ]
  },
  {
   "cell_type": "code",
   "execution_count": 12,
   "metadata": {},
   "outputs": [
    {
     "name": "stdout",
     "output_type": "stream",
     "text": [
      "['samsung', 'apple', '1+', 'redmi', 'xiaomi', 'nothing', 'oppo', 'firefox', 'safari', 'edge', 'opera', 'vivaldi', 'brave', 'epic', 'chromium', 'uber', 'ola', 'swiggy', 'zomato', 'flipkart', 'amazon', 'whatsapp', 'purple', 'shopsy', 'wynk', 'gallery', 'samsung', 'apple', '1+', 'redmi', 'xiaomi', 'nothing', 'oppo']\n"
     ]
    }
   ],
   "source": [
    "mobile.extend(apps)\n",
    "print(mobile)"
   ]
  },
  {
   "cell_type": "code",
   "execution_count": 2,
   "metadata": {},
   "outputs": [
    {
     "name": "stdout",
     "output_type": "stream",
     "text": [
      "{4}\n"
     ]
    }
   ],
   "source": [
    "list1=[1,3,4,2]\n",
    "x=list1.pop(2)\n",
    "print(set([x]))"
   ]
  },
  {
   "cell_type": "code",
   "execution_count": 3,
   "metadata": {},
   "outputs": [
    {
     "name": "stdout",
     "output_type": "stream",
     "text": [
      "([2, 1], 'abc', 0, 9)\n"
     ]
    }
   ],
   "source": [
    "tupl=([2,3],\"abc\",0,9)\n",
    "tupl[0][1]=1\n",
    "print(tupl)"
   ]
  },
  {
   "cell_type": "code",
   "execution_count": null,
   "metadata": {},
   "outputs": [],
   "source": []
  }
 ],
 "metadata": {
  "kernelspec": {
   "display_name": "base",
   "language": "python",
   "name": "python3"
  },
  "language_info": {
   "codemirror_mode": {
    "name": "ipython",
    "version": 3
   },
   "file_extension": ".py",
   "mimetype": "text/x-python",
   "name": "python",
   "nbconvert_exporter": "python",
   "pygments_lexer": "ipython3",
   "version": "3.12.2"
  }
 },
 "nbformat": 4,
 "nbformat_minor": 2
}
