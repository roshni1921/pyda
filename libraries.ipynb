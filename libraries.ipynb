{
 "cells": [
  {
   "cell_type": "code",
   "execution_count": 21,
   "metadata": {},
   "outputs": [],
   "source": [
    "import math"
   ]
  },
  {
   "cell_type": "code",
   "execution_count": 22,
   "metadata": {},
   "outputs": [
    {
     "name": "stdout",
     "output_type": "stream",
     "text": [
      "3.605551275463989\n",
      "120\n",
      "2.0\n",
      "0.320040389379563\n",
      "2\n",
      "252\n",
      "3.141592653589793\n",
      "2.718281828459045\n"
     ]
    }
   ],
   "source": [
    "print(math.sqrt(13))\n",
    "print(math.factorial(5))\n",
    "print(math.log(100,10))\n",
    "print(math.tan(60))\n",
    "print(math.gcd(12,14,16))\n",
    "print(math.lcm(12,18,14))\n",
    "print(math.pi)\n",
    "print(math.e)"
   ]
  },
  {
   "cell_type": "code",
   "execution_count": 23,
   "metadata": {},
   "outputs": [],
   "source": [
    "import datetime\n"
   ]
  },
  {
   "cell_type": "code",
   "execution_count": 24,
   "metadata": {},
   "outputs": [],
   "source": [
    "from random import random,randint,choice,shuffle,randrange"
   ]
  },
  {
   "cell_type": "code",
   "execution_count": 25,
   "metadata": {},
   "outputs": [
    {
     "name": "stdout",
     "output_type": "stream",
     "text": [
      "get a random number 0 and 5: 0.8424079122779178\n",
      "get a random number between 1 and 10: 5\n",
      "select a random item: char\n",
      "shuffle a list ['joe', 'jack', 'john', 'jill', 'jane']\n"
     ]
    }
   ],
   "source": [
    "print(\"get a random number 0 and 5:\", random())\n",
    "print(\"get a random number between 1 and 10:\",randint(1,10))\n",
    "print(\"select a random item:\",choice([\"win\",\"lose\",\"char\",\"mint\",\"salt\"]))\n",
    "\n",
    "\n",
    "names=[\"john\",\"jane\",\"jack\",\"jill\",\"joe\"]\n",
    "shuffle(names)\n",
    "print(\"shuffle a list\",names)"
   ]
  },
  {
   "cell_type": "code",
   "execution_count": 4,
   "metadata": {},
   "outputs": [],
   "source": [
    "import datetime as dt"
   ]
  },
  {
   "cell_type": "code",
   "execution_count": null,
   "metadata": {},
   "outputs": [],
   "source": [
    "from datetime import datetime as dt"
   ]
  },
  {
   "cell_type": "code",
   "execution_count": null,
   "metadata": {},
   "outputs": [
    {
     "name": "stdout",
     "output_type": "stream",
     "text": [
      "current time: 2024-05-17 17:03:14.340171\n"
     ]
    }
   ],
   "source": [
    "print(\"current time:\",dt.now())\n"
   ]
  },
  {
   "cell_type": "code",
   "execution_count": null,
   "metadata": {},
   "outputs": [
    {
     "name": "stdout",
     "output_type": "stream",
     "text": [
      "current year: 2024\n",
      "current month: 5\n",
      "current day: 17\n",
      "current hour: 17\n",
      "current minute: 8\n",
      "current second: 31\n",
      "current weekday: 4\n"
     ]
    }
   ],
   "source": [
    "print(\"current year:\",dt.now().year)\n",
    "print(\"current month:\",dt.now().month)\n",
    "print(\"current day:\",dt.now().day)\n",
    "print(\"current hour:\",dt.now().hour)\n",
    "print(\"current minute:\",dt.now().minute)\n",
    "print(\"current second:\",dt.now().second)\n",
    "print(\"current weekday:\",dt.now().weekday())"
   ]
  },
  {
   "cell_type": "code",
   "execution_count": null,
   "metadata": {},
   "outputs": [
    {
     "name": "stdout",
     "output_type": "stream",
     "text": [
      "formatted date: 17/05/24\n"
     ]
    }
   ],
   "source": [
    "date=dt.strftime(dt.now(),\"%d/%m/%y\")\n",
    "print(\"formatted date:\",date)"
   ]
  },
  {
   "cell_type": "code",
   "execution_count": null,
   "metadata": {},
   "outputs": [
    {
     "name": "stdout",
     "output_type": "stream",
     "text": [
      "formatted time: 17/12/03\n"
     ]
    }
   ],
   "source": [
    "time=dt.strftime(dt.now(),\"%H/%M/%S\")\n",
    "print(\"formatted time:\",time)"
   ]
  },
  {
   "cell_type": "code",
   "execution_count": 29,
   "metadata": {},
   "outputs": [],
   "source": [
    "import os #to know about the folders, files or dictionaries"
   ]
  },
  {
   "cell_type": "markdown",
   "metadata": {},
   "source": [
    "cwd=currentworking directory"
   ]
  },
  {
   "cell_type": "code",
   "execution_count": null,
   "metadata": {},
   "outputs": [
    {
     "name": "stdout",
     "output_type": "stream",
     "text": [
      "current folder c:\\Users\\Dell\\Desktop\\pyda\n"
     ]
    }
   ],
   "source": [
    "print(\"current folder\",os.getcwd())"
   ]
  },
  {
   "cell_type": "code",
   "execution_count": 2,
   "metadata": {},
   "outputs": [],
   "source": [
    "import random"
   ]
  },
  {
   "cell_type": "code",
   "execution_count": 3,
   "metadata": {},
   "outputs": [
    {
     "name": "stdout",
     "output_type": "stream",
     "text": [
      "4\n"
     ]
    }
   ],
   "source": [
    "print(random.randrange(1, 10))"
   ]
  },
  {
   "cell_type": "code",
   "execution_count": null,
   "metadata": {},
   "outputs": [],
   "source": [
    "import random"
   ]
  },
  {
   "cell_type": "code",
   "execution_count": null,
   "metadata": {},
   "outputs": [
    {
     "name": "stdout",
     "output_type": "stream",
     "text": [
      "19\n"
     ]
    }
   ],
   "source": [
    "print(random.randrange(1, 20))"
   ]
  },
  {
   "cell_type": "code",
   "execution_count": 27,
   "metadata": {},
   "outputs": [],
   "source": [
    "import os #for operating system"
   ]
  },
  {
   "cell_type": "code",
   "execution_count": 28,
   "metadata": {},
   "outputs": [
    {
     "name": "stdout",
     "output_type": "stream",
     "text": [
      "['.git', '.vscode', 'basics.ipynb', 'conditions.ipynb', 'functions.ipynb', 'indexingnslicing.ipynb', 'libraries.ipynb', 'listcomprehension.ipynb', 'loop.ipynb', 'practice.ipynb', 'string.ipynb', 'whileloop.ipynb']\n"
     ]
    }
   ],
   "source": [
    "files=os.listdir()\n",
    "print(files)"
   ]
  },
  {
   "cell_type": "code",
   "execution_count": 30,
   "metadata": {},
   "outputs": [
    {
     "name": "stdout",
     "output_type": "stream",
     "text": [
      "12\n"
     ]
    }
   ],
   "source": [
    "print(len(files))"
   ]
  },
  {
   "cell_type": "code",
   "execution_count": 32,
   "metadata": {},
   "outputs": [
    {
     "data": {
      "text/plain": [
       "<generator object walk at 0x0000018BB30B2880>"
      ]
     },
     "execution_count": 32,
     "metadata": {},
     "output_type": "execute_result"
    }
   ],
   "source": [
    "os.walk(\"C:\") #walk through all folders and files"
   ]
  },
  {
   "cell_type": "code",
   "execution_count": 35,
   "metadata": {},
   "outputs": [
    {
     "name": "stdout",
     "output_type": "stream",
     "text": [
      "=> C:\\Users\\Dell\\Desktop\\pyda\n",
      "📁,folder\n",
      "🗄️ ['basics.ipynb', 'conditions.ipynb', 'functions.ipynb', 'indexingnslicing.ipynb', 'libraries.ipynb', 'listcomprehension.ipynb', 'loop.ipynb', 'practice.ipynb', 'string.ipynb', 'whileloop.ipynb']\n",
      "total_files: 10\n",
      "=> C:\\Users\\Dell\\Desktop\\pyda\\.git\n",
      "📁,folder\n",
      "🗄️ ['COMMIT_EDITMSG', 'config', 'description', 'HEAD', 'index']\n",
      "total_files: 15\n",
      "=> C:\\Users\\Dell\\Desktop\\pyda\\.git\\hooks\n",
      "📁,folder\n",
      "🗄️ ['applypatch-msg.sample', 'commit-msg.sample', 'fsmonitor-watchman.sample', 'post-update.sample', 'pre-applypatch.sample', 'pre-commit.sample', 'pre-merge-commit.sample', 'pre-push.sample', 'pre-rebase.sample', 'pre-receive.sample', 'prepare-commit-msg.sample', 'push-to-checkout.sample', 'sendemail-validate.sample', 'update.sample']\n",
      "total_files: 29\n",
      "=> C:\\Users\\Dell\\Desktop\\pyda\\.git\\info\n",
      "📁,folder\n",
      "🗄️ ['exclude']\n",
      "total_files: 30\n",
      "=> C:\\Users\\Dell\\Desktop\\pyda\\.git\\logs\n",
      "📁,folder\n",
      "🗄️ ['HEAD']\n",
      "total_files: 31\n",
      "=> C:\\Users\\Dell\\Desktop\\pyda\\.git\\logs\\refs\n",
      "📁,folder\n",
      "🗄️ []\n",
      "total_files: 31\n",
      "=> C:\\Users\\Dell\\Desktop\\pyda\\.git\\logs\\refs\\heads\n",
      "📁,folder\n",
      "🗄️ ['main']\n",
      "total_files: 32\n",
      "=> C:\\Users\\Dell\\Desktop\\pyda\\.git\\objects\n",
      "📁,folder\n",
      "🗄️ []\n",
      "total_files: 32\n",
      "=> C:\\Users\\Dell\\Desktop\\pyda\\.git\\objects\\13\n",
      "📁,folder\n",
      "🗄️ ['00f787ffead9484a02f0a18229d5ea6484beb2']\n",
      "total_files: 33\n",
      "=> C:\\Users\\Dell\\Desktop\\pyda\\.git\\objects\\6a\n",
      "📁,folder\n",
      "🗄️ ['c308de9e30633b84386cf17e2a955b80d03574']\n",
      "total_files: 34\n",
      "=> C:\\Users\\Dell\\Desktop\\pyda\\.git\\objects\\a7\n",
      "📁,folder\n",
      "🗄️ ['0913baff5cacc73b539385fcc2cb2892e44f14']\n",
      "total_files: 35\n",
      "=> C:\\Users\\Dell\\Desktop\\pyda\\.git\\objects\\ae\n",
      "📁,folder\n",
      "🗄️ ['a054083351ff5bc436638b77a2d73da24364b0']\n",
      "total_files: 36\n",
      "=> C:\\Users\\Dell\\Desktop\\pyda\\.git\\objects\\bf\n",
      "📁,folder\n",
      "🗄️ ['b6531350c257633c27d05a70f0e3a64d7fd1ef']\n",
      "total_files: 37\n",
      "=> C:\\Users\\Dell\\Desktop\\pyda\\.git\\objects\\c9\n",
      "📁,folder\n",
      "🗄️ ['290abdd205d71f77a0f702b5dcf440638fa656']\n",
      "total_files: 38\n",
      "=> C:\\Users\\Dell\\Desktop\\pyda\\.git\\objects\\dd\n",
      "📁,folder\n",
      "🗄️ ['317203445c0aa2a80bf5b5b354177b8cab9924']\n",
      "total_files: 39\n",
      "=> C:\\Users\\Dell\\Desktop\\pyda\\.git\\objects\\f5\n",
      "📁,folder\n",
      "🗄️ ['30485a61e490decc00ec4f525b7756f23a834b']\n",
      "total_files: 40\n",
      "=> C:\\Users\\Dell\\Desktop\\pyda\\.git\\objects\\fd\n",
      "📁,folder\n",
      "🗄️ ['59d2cede8d2da0dd103fb34eeeae2536a4977e']\n",
      "total_files: 41\n",
      "=> C:\\Users\\Dell\\Desktop\\pyda\\.git\\objects\\info\n",
      "📁,folder\n",
      "🗄️ []\n",
      "total_files: 41\n",
      "=> C:\\Users\\Dell\\Desktop\\pyda\\.git\\objects\\pack\n",
      "📁,folder\n",
      "🗄️ []\n",
      "total_files: 41\n",
      "=> C:\\Users\\Dell\\Desktop\\pyda\\.git\\refs\n",
      "📁,folder\n",
      "🗄️ []\n",
      "total_files: 41\n",
      "=> C:\\Users\\Dell\\Desktop\\pyda\\.git\\refs\\heads\n",
      "📁,folder\n",
      "🗄️ ['main']\n",
      "total_files: 42\n",
      "=> C:\\Users\\Dell\\Desktop\\pyda\\.git\\refs\\tags\n",
      "📁,folder\n",
      "🗄️ []\n",
      "total_files: 42\n",
      "=> C:\\Users\\Dell\\Desktop\\pyda\\.vscode\n",
      "📁,folder\n",
      "🗄️ ['settings.json']\n",
      "total_files: 43\n"
     ]
    }
   ],
   "source": [
    "total_files=0\n",
    "for path,folder,files in os.walk (r\"C:\\Users\\Dell\\Desktop\\pyda\"):\n",
    "    print(\"=>\",path)\n",
    "    print(\"📁,folder\")\n",
    "    print(\"🗄️\",files)\n",
    "    total_files+=len(files)\n",
    "    print(\"total_files:\",total_files)"
   ]
  },
  {
   "cell_type": "code",
   "execution_count": 34,
   "metadata": {},
   "outputs": [
    {
     "name": "stdout",
     "output_type": "stream",
     "text": [
      "file exist\n"
     ]
    }
   ],
   "source": [
    "files=r\"C:\\Users\\Dell\\Desktop\\pyda\"\n",
    "if os.path.exists(files):\n",
    "    print(\"file exist\")"
   ]
  },
  {
   "cell_type": "code",
   "execution_count": null,
   "metadata": {},
   "outputs": [],
   "source": []
  }
 ],
 "metadata": {
  "kernelspec": {
   "display_name": "base",
   "language": "python",
   "name": "python3"
  },
  "language_info": {
   "codemirror_mode": {
    "name": "ipython",
    "version": 3
   },
   "file_extension": ".py",
   "mimetype": "text/x-python",
   "name": "python",
   "nbconvert_exporter": "python",
   "pygments_lexer": "ipython3",
   "version": "3.12.2"
  }
 },
 "nbformat": 4,
 "nbformat_minor": 2
}
