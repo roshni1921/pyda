{
 "cells": [
  {
   "cell_type": "code",
   "execution_count": 1,
   "metadata": {},
   "outputs": [
    {
     "name": "stdout",
     "output_type": "stream",
     "text": [
      "hello world\n",
      "w\n",
      "world\n"
     ]
    }
   ],
   "source": [
    "a=\"hello world\"\n",
    "print(a)\n",
    "print(a[6])\n",
    "print(a[6:])"
   ]
  },
  {
   "cell_type": "markdown",
   "metadata": {},
   "source": [
    "when  integer to string and conversion to special chracter are done"
   ]
  },
  {
   "cell_type": "code",
   "execution_count": 2,
   "metadata": {},
   "outputs": [
    {
     "name": "stdout",
     "output_type": "stream",
     "text": [
      "K\n"
     ]
    }
   ],
   "source": [
    "a=chr(75)\n",
    "print(a)"
   ]
  },
  {
   "cell_type": "markdown",
   "metadata": {},
   "source": [
    "character to integer"
   ]
  },
  {
   "cell_type": "code",
   "execution_count": 3,
   "metadata": {},
   "outputs": [
    {
     "name": "stdout",
     "output_type": "stream",
     "text": [
      "71\n"
     ]
    }
   ],
   "source": [
    "b=ord(\"G\")\n",
    "print(b)"
   ]
  },
  {
   "cell_type": "code",
   "execution_count": 4,
   "metadata": {},
   "outputs": [
    {
     "name": "stdout",
     "output_type": "stream",
     "text": [
      "23\n"
     ]
    },
    {
     "data": {
      "text/plain": [
       "str"
      ]
     },
     "execution_count": 4,
     "metadata": {},
     "output_type": "execute_result"
    }
   ],
   "source": [
    "#item to str\n",
    "s=str(23)\n",
    "print(s)\n",
    "type(s)"
   ]
  },
  {
   "cell_type": "code",
   "execution_count": 5,
   "metadata": {},
   "outputs": [
    {
     "name": "stdout",
     "output_type": "stream",
     "text": [
      "23\n"
     ]
    },
    {
     "data": {
      "text/plain": [
       "int"
      ]
     },
     "execution_count": 5,
     "metadata": {},
     "output_type": "execute_result"
    }
   ],
   "source": [
    "s=int(s)\n",
    "print (s)\n",
    "type(s)"
   ]
  },
  {
   "cell_type": "markdown",
   "metadata": {},
   "source": [
    "#string concatenation"
   ]
  },
  {
   "cell_type": "code",
   "execution_count": 6,
   "metadata": {},
   "outputs": [
    {
     "name": "stdout",
     "output_type": "stream",
     "text": [
      "hello world\n"
     ]
    }
   ],
   "source": [
    "a=\"hello\"\n",
    "b=\"world\"\n",
    "print(a+\" \"+b)"
   ]
  },
  {
   "cell_type": "markdown",
   "metadata": {},
   "source": [
    "##to print a long text with the print value"
   ]
  },
  {
   "cell_type": "code",
   "execution_count": 7,
   "metadata": {},
   "outputs": [
    {
     "name": "stdout",
     "output_type": "stream",
     "text": [
      "sum= 15\n",
      "sum of 10 and 5 is 15\n"
     ]
    }
   ],
   "source": [
    "a=10\n",
    "b=5\n",
    "sum=a+b\n",
    "print(\"sum=\",sum)\n",
    "print(f\"sum of {a} and {b} is {sum}\")"
   ]
  },
  {
   "cell_type": "markdown",
   "metadata": {},
   "source": [
    "#string multiplacation"
   ]
  },
  {
   "cell_type": "code",
   "execution_count": 8,
   "metadata": {},
   "outputs": [
    {
     "name": "stdout",
     "output_type": "stream",
     "text": [
      "hii hii hii hii hii \n"
     ]
    }
   ],
   "source": [
    "a=\"hii \"\n",
    "print(a*5)"
   ]
  },
  {
   "cell_type": "code",
   "execution_count": 9,
   "metadata": {},
   "outputs": [
    {
     "data": {
      "text/plain": [
       "'HEY, I AM TRYING MY BEST TO BE A GOOD DATA ANALYST'"
      ]
     },
     "execution_count": 9,
     "metadata": {},
     "output_type": "execute_result"
    }
   ],
   "source": [
    "x=\"hey, i am trying my best to be a good data analyst\"\n",
    "x.upper()"
   ]
  },
  {
   "cell_type": "code",
   "execution_count": 10,
   "metadata": {},
   "outputs": [
    {
     "data": {
      "text/plain": [
       "'hey, i am trying my best to be a good data analyst'"
      ]
     },
     "execution_count": 10,
     "metadata": {},
     "output_type": "execute_result"
    }
   ],
   "source": [
    "x.lower()"
   ]
  },
  {
   "cell_type": "markdown",
   "metadata": {},
   "source": [
    "to arrange a sentence in statement form"
   ]
  },
  {
   "cell_type": "code",
   "execution_count": 11,
   "metadata": {},
   "outputs": [
    {
     "data": {
      "text/plain": [
       "'Hey, i am trying my best to be a good data analyst'"
      ]
     },
     "execution_count": 11,
     "metadata": {},
     "output_type": "execute_result"
    }
   ],
   "source": [
    "x.capitalize()"
   ]
  },
  {
   "cell_type": "code",
   "execution_count": 12,
   "metadata": {},
   "outputs": [
    {
     "data": {
      "text/plain": [
       "['hello', 'how', 'are', 'you']"
      ]
     },
     "execution_count": 12,
     "metadata": {},
     "output_type": "execute_result"
    }
   ],
   "source": [
    "a=\"hello how are you\"\n",
    "a.split()"
   ]
  },
  {
   "cell_type": "code",
   "execution_count": 13,
   "metadata": {},
   "outputs": [
    {
     "name": "stdout",
     "output_type": "stream",
     "text": [
      "Hello How Are You "
     ]
    }
   ],
   "source": [
    "a=['hello', 'how', 'are', 'you']\n",
    "for i in a:\n",
    "    print(i.capitalize(),end=\" \")"
   ]
  },
  {
   "cell_type": "code",
   "execution_count": 14,
   "metadata": {},
   "outputs": [
    {
     "name": "stdout",
     "output_type": "stream",
     "text": [
      "johnny johnny yes papa\n",
      "eating sugar no papa\n",
      "telling a lie no papa\n",
      "open your mouth ha ha ha\n"
     ]
    }
   ],
   "source": [
    "poem1='''johnny johnny yes papa\n",
    "eating sugar no papa\n",
    "telling a lie no papa\n",
    "open your mouth ha ha ha'''\n",
    "print(poem1)"
   ]
  },
  {
   "cell_type": "code",
   "execution_count": 15,
   "metadata": {},
   "outputs": [
    {
     "data": {
      "text/plain": [
       "3"
      ]
     },
     "execution_count": 15,
     "metadata": {},
     "output_type": "execute_result"
    }
   ],
   "source": [
    "poem1.count(\"i\")"
   ]
  },
  {
   "cell_type": "markdown",
   "metadata": {},
   "source": [
    "#to split lines in a multi line string"
   ]
  },
  {
   "cell_type": "code",
   "execution_count": 16,
   "metadata": {},
   "outputs": [
    {
     "ename": "NameError",
     "evalue": "name 'poem' is not defined",
     "output_type": "error",
     "traceback": [
      "\u001b[1;31m---------------------------------------------------------------------------\u001b[0m",
      "\u001b[1;31mNameError\u001b[0m                                 Traceback (most recent call last)",
      "Cell \u001b[1;32mIn[16], line 1\u001b[0m\n\u001b[1;32m----> 1\u001b[0m \u001b[43mpoem\u001b[49m\u001b[38;5;241m.\u001b[39msplitlines()\n",
      "\u001b[1;31mNameError\u001b[0m: name 'poem' is not defined"
     ]
    }
   ],
   "source": [
    "poem.splitlines()"
   ]
  },
  {
   "cell_type": "code",
   "execution_count": null,
   "metadata": {},
   "outputs": [
    {
     "ename": "NameError",
     "evalue": "name 'poem' is not defined",
     "output_type": "error",
     "traceback": [
      "\u001b[1;31m---------------------------------------------------------------------------\u001b[0m",
      "\u001b[1;31mNameError\u001b[0m                                 Traceback (most recent call last)",
      "Cell \u001b[1;32mIn[3], line 1\u001b[0m\n\u001b[1;32m----> 1\u001b[0m b\u001b[38;5;241m=\u001b[39m\u001b[43mpoem\u001b[49m\u001b[38;5;241m.\u001b[39mreplace(\u001b[38;5;124m\"\u001b[39m\u001b[38;5;124mpapa\u001b[39m\u001b[38;5;124m\"\u001b[39m,\u001b[38;5;124m\"\u001b[39m\u001b[38;5;124mfufaji\u001b[39m\u001b[38;5;124m\"\u001b[39m)\n\u001b[0;32m      2\u001b[0m \u001b[38;5;28mprint\u001b[39m(b)\n",
      "\u001b[1;31mNameError\u001b[0m: name 'poem' is not defined"
     ]
    }
   ],
   "source": [
    "b=poem.replace(\"papa\",\"fufaji\")\n",
    "print(b)"
   ]
  },
  {
   "cell_type": "code",
   "execution_count": null,
   "metadata": {},
   "outputs": [
    {
     "name": "stdout",
     "output_type": "stream",
     "text": [
      "johnny johnny yes fufaji\n",
      "eating poison yes fufaji\n",
      "telling a lie yes fufaji\n",
      "open your mouth ha ha ha\n"
     ]
    }
   ],
   "source": [
    "b=poem.replace(\"papa\",\"fufaji\").replace(\"sugar\",\"poison\").replace(\"no\",\"yes\")\n",
    "print(b)"
   ]
  },
  {
   "cell_type": "code",
   "execution_count": null,
   "metadata": {},
   "outputs": [
    {
     "name": "stdout",
     "output_type": "stream",
     "text": [
      "Twinkle, sun, little moon,\n",
      "How I amaze what you are.\n",
      "Up above the world so high,\n",
      "Like a diamond in the sky.\n",
      "Twinkle, sun, little moon,\n",
      "How I amaze what you are!\n"
     ]
    }
   ],
   "source": [
    "a='''Twinkle, twinkle, little star,\n",
    "How I wonder what you are.\n",
    "Up above the world so high,\n",
    "Like a diamond in the sky.\n",
    "Twinkle, twinkle, little star,\n",
    "How I wonder what you are!'''\n",
    "x=a.replace(\"twinkle\",\"sun\").replace(\"star\",\"moon\").replace(\"wonder\",\"amaze\")\n",
    "print(x)\n"
   ]
  },
  {
   "cell_type": "code",
   "execution_count": null,
   "metadata": {},
   "outputs": [
    {
     "data": {
      "text/plain": [
       "-1"
      ]
     },
     "execution_count": 16,
     "metadata": {},
     "output_type": "execute_result"
    }
   ],
   "source": [
    "a.find(\"little\")"
   ]
  },
  {
   "cell_type": "code",
   "execution_count": null,
   "metadata": {},
   "outputs": [
    {
     "name": "stdout",
     "output_type": "stream",
     "text": [
      "C:/Users/lenovo/Document\n"
     ]
    }
   ],
   "source": [
    "path=[\"C:\",\"Users\",\"lenovo\",\"Document\"]\n",
    "print(\"/\".join(path))"
   ]
  },
  {
   "cell_type": "code",
   "execution_count": null,
   "metadata": {},
   "outputs": [
    {
     "name": "stdout",
     "output_type": "stream",
     "text": [
      "hello:/how/are/you\n"
     ]
    }
   ],
   "source": [
    "main=[\"hello:\",\"how\",\"are\",\"you\"]\n",
    "print(\"/\".join(main))"
   ]
  },
  {
   "cell_type": "code",
   "execution_count": null,
   "metadata": {},
   "outputs": [
    {
     "name": "stdout",
     "output_type": "stream",
     "text": [
      "{'name': 'john', 'class': '2nd', 'roll': 21, 'marks': 90}\n"
     ]
    }
   ],
   "source": [
    "students={\"name\":\"john\",\n",
    "          \"class\":\"2nd\",\n",
    "          \"roll\": 21,\n",
    "          \"marks\":90}\n",
    "print(students)"
   ]
  },
  {
   "cell_type": "code",
   "execution_count": null,
   "metadata": {},
   "outputs": [
    {
     "name": "stdout",
     "output_type": "stream",
     "text": [
      "john\n",
      "2nd\n"
     ]
    }
   ],
   "source": [
    "#1st method\n",
    "print(students[\"name\"])\n",
    "print(students[\"class\"])"
   ]
  },
  {
   "cell_type": "code",
   "execution_count": null,
   "metadata": {},
   "outputs": [
    {
     "name": "stdout",
     "output_type": "stream",
     "text": [
      "john\n",
      "2nd\n"
     ]
    }
   ],
   "source": [
    "#2nd method\n",
    "print(students.get(\"name\"))\n",
    "print(students.get(\"class\"))"
   ]
  },
  {
   "cell_type": "code",
   "execution_count": null,
   "metadata": {},
   "outputs": [
    {
     "name": "stdout",
     "output_type": "stream",
     "text": [
      "{'name': 'john', 'class': '2nd', 'roll': 21, 'marks': 90, 'age': 20, 'address': 'Downtown', 'phone': 1245785652}\n"
     ]
    }
   ],
   "source": [
    "#to add items in a dictionary\n",
    "students[\"age\"]=20\n",
    "students[\"address\"]=\"Downtown\"\n",
    "students[\"phone\"]= 1245785652\n",
    "print(students)"
   ]
  },
  {
   "cell_type": "code",
   "execution_count": null,
   "metadata": {},
   "outputs": [
    {
     "name": "stdout",
     "output_type": "stream",
     "text": [
      "name\n",
      "class\n",
      "roll\n",
      "marks\n",
      "age\n",
      "address\n",
      "phone\n"
     ]
    }
   ],
   "source": [
    "for key in students:\n",
    "    print(key)"
   ]
  },
  {
   "cell_type": "code",
   "execution_count": null,
   "metadata": {},
   "outputs": [
    {
     "name": "stdout",
     "output_type": "stream",
     "text": [
      "john\n",
      "2nd\n",
      "21\n",
      "90\n",
      "20\n",
      "Downtown\n",
      "1245785652\n"
     ]
    }
   ],
   "source": [
    "for values in students:\n",
    "    print(students[values])"
   ]
  },
  {
   "cell_type": "code",
   "execution_count": null,
   "metadata": {},
   "outputs": [
    {
     "name": "stdout",
     "output_type": "stream",
     "text": [
      "name : john\n",
      "class : 2nd\n",
      "roll : 21\n",
      "marks : 90\n",
      "age : 20\n",
      "address : Downtown\n",
      "phone : 1245785652\n"
     ]
    }
   ],
   "source": [
    "for k, v in students.items():\n",
    "    print(f\"{k} : {v}\")"
   ]
  },
  {
   "cell_type": "code",
   "execution_count": null,
   "metadata": {},
   "outputs": [
    {
     "name": "stdout",
     "output_type": "stream",
     "text": [
      "{'emp01': {'name': 'john', 'age': 27, 'dept': 'HR', 'salary': '32000'}, 'emp02': {'name': 'smith', 'age': 37, 'dept': 'engineering', 'salary': '35000'}, 'emp03': {'name': 'sarah', 'age': 29, 'dept': 'marketing', 'salary': '38000'}}\n"
     ]
    }
   ],
   "source": [
    "company={ \"emp01\":{\"name\":\"john\",\"age\":27,\"dept\" : \"HR\",\"salary\":\"32000\"},\n",
    "         \"emp02\":{\"name\":\"smith\",\"age\":37,\"dept\" : \"engineering\",\"salary\":\"35000\"},\n",
    "        \"emp03\":{\"name\":\"sarah\",\"age\":29,\"dept\" : \"marketing\",\"salary\":\"38000\"}}\n",
    "print(company)"
   ]
  },
  {
   "cell_type": "code",
   "execution_count": null,
   "metadata": {},
   "outputs": [
    {
     "name": "stdout",
     "output_type": "stream",
     "text": [
      "{'name': 'john', 'age': 27, 'dept': 'HR', 'salary': '32000'}\n"
     ]
    }
   ],
   "source": [
    "print(company[\"emp01\"])"
   ]
  },
  {
   "cell_type": "code",
   "execution_count": null,
   "metadata": {},
   "outputs": [
    {
     "name": "stdout",
     "output_type": "stream",
     "text": [
      "27\n"
     ]
    }
   ],
   "source": [
    "print(company[\"emp01\"][\"age\"])"
   ]
  },
  {
   "cell_type": "code",
   "execution_count": null,
   "metadata": {},
   "outputs": [
    {
     "name": "stdout",
     "output_type": "stream",
     "text": [
      "{'emp01': {'name': 'john', 'age': 27, 'dept': 'HR', 'salary': '32000'}, 'emp02': {'name': 'smith', 'age': 37, 'dept': 'engineering', 'salary': '35000'}, 'emp03': {'name': 'sarah', 'age': 29, 'dept': 'marketing', 'salary': '38000'}, 'emp04': {'name': 'mathew', 'age': 29, 'dept': 'finance', 'salary': '30000'}, 'emp05': {'name': 'mary', 'age': 24, 'dept': 'sales', 'salary': '31000'}}\n"
     ]
    }
   ],
   "source": [
    "company[\"emp04\"]={\"name\":\"mathew\",\"age\":29,\"dept\" : \"finance\",\"salary\":\"30000\"}\n",
    "company[\"emp05\"]={\"name\":\"mary\",\"age\":24,\"dept\" : \"sales\",\"salary\":\"31000\"}\n",
    "print(company)"
   ]
  },
  {
   "cell_type": "markdown",
   "metadata": {},
   "source": [
    "### Question 21:\n",
    "Suppose you have a nested dictionary representing a person's contact information:\n",
    "```python\n",
    "contact_info = {\n",
    "    'name': 'John Doe',\n",
    "    'phone': {\n",
    "        'home': '123-456-7890',\n",
    "        'work': '987-654-3210'\n",
    "    },\n",
    "    'email': 'john.doe@example.com'\n",
    "}\n",
    "```\n",
    "Write Python code to extract John's home phone number from the dictionary."
   ]
  },
  {
   "cell_type": "code",
   "execution_count": null,
   "metadata": {},
   "outputs": [],
   "source": [
    "contact_info = {\n",
    "    'name': 'John Doe',\n",
    "    'phone': {\n",
    "        'home': '123-456-7890',\n",
    "        'work': '987-654-3210'\n",
    "    },\n",
    "    'email': 'john.doe@example.com'}\n",
    "\n",
    "\n",
    "nested_value=contact_info[\"phone\"][\"home\"]\n",
    "print(f\"John's home phone number is: {nested_value}\")"
   ]
  }
 ],
 "metadata": {
  "kernelspec": {
   "display_name": "base",
   "language": "python",
   "name": "python3"
  },
  "language_info": {
   "codemirror_mode": {
    "name": "ipython",
    "version": 3
   },
   "file_extension": ".py",
   "mimetype": "text/x-python",
   "name": "python",
   "nbconvert_exporter": "python",
   "pygments_lexer": "ipython3",
   "version": "3.12.2"
  }
 },
 "nbformat": 4,
 "nbformat_minor": 2
}
